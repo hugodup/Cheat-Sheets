{
 "cells": [
  {
   "cell_type": "code",
   "execution_count": 1,
   "metadata": {},
   "outputs": [
    {
     "name": "stdout",
     "output_type": "stream",
     "text": [
      "Requirement already satisfied: pandas in /usr/local/lib/python3.13/site-packages (2.2.3)\n",
      "Collecting sqlalchemy\n",
      "  Downloading SQLAlchemy-2.0.37-cp313-cp313-manylinux_2_17_x86_64.manylinux2014_x86_64.whl.metadata (9.6 kB)\n",
      "Requirement already satisfied: kagglehub in /usr/local/lib/python3.13/site-packages (0.3.6)\n",
      "Collecting psycopg2\n",
      "  Downloading psycopg2-2.9.10.tar.gz (385 kB)\n",
      "  Installing build dependencies ...done\n",
      "\u001b[?25h  Getting requirements to build wheel ... \u001b[?25ldone\n",
      "\u001b[?25h  Preparing metadata (pyproject.toml) ... \u001b[?25ldone\n",
      "\u001b[?25hRequirement already satisfied: numpy>=1.26.0 in /usr/local/lib/python3.13/site-packages (from pandas) (2.2.1)\n",
      "Requirement already satisfied: python-dateutil>=2.8.2 in /usr/local/lib/python3.13/site-packages (from pandas) (2.9.0.post0)\n",
      "Requirement already satisfied: pytz>=2020.1 in /usr/local/lib/python3.13/site-packages (from pandas) (2024.2)\n",
      "Requirement already satisfied: tzdata>=2022.7 in /usr/local/lib/python3.13/site-packages (from pandas) (2024.2)\n",
      "Collecting greenlet!=0.4.17 (from sqlalchemy)\n",
      "  Downloading greenlet-3.1.1-cp313-cp313-manylinux_2_24_x86_64.manylinux_2_28_x86_64.whl.metadata (3.8 kB)\n",
      "Collecting typing-extensions>=4.6.0 (from sqlalchemy)\n",
      "  Downloading typing_extensions-4.12.2-py3-none-any.whl.metadata (3.0 kB)\n",
      "Requirement already satisfied: packaging in /usr/local/lib/python3.13/site-packages (from kagglehub) (24.2)\n",
      "Requirement already satisfied: requests in /usr/local/lib/python3.13/site-packages (from kagglehub) (2.32.3)\n",
      "Requirement already satisfied: tqdm in /usr/local/lib/python3.13/site-packages (from kagglehub) (4.67.1)\n",
      "Requirement already satisfied: six>=1.5 in /usr/local/lib/python3.13/site-packages (from python-dateutil>=2.8.2->pandas) (1.17.0)\n",
      "Requirement already satisfied: charset-normalizer<4,>=2 in /usr/local/lib/python3.13/site-packages (from requests->kagglehub) (3.4.1)\n",
      "Requirement already satisfied: idna<4,>=2.5 in /usr/local/lib/python3.13/site-packages (from requests->kagglehub) (3.10)\n",
      "Requirement already satisfied: urllib3<3,>=1.21.1 in /usr/local/lib/python3.13/site-packages (from requests->kagglehub) (2.3.0)\n",
      "Requirement already satisfied: certifi>=2017.4.17 in /usr/local/lib/python3.13/site-packages (from requests->kagglehub) (2024.12.14)\n",
      "Downloading SQLAlchemy-2.0.37-cp313-cp313-manylinux_2_17_x86_64.manylinux2014_x86_64.whl (3.2 MB)\n",
      "\u001b[2K   \u001b[90m━━━━━━━━━━━━━━━━━━━━━━━━━━━━━━━━━━━━━━━━\u001b[0m \u001b[32m3.2/3.2 MB\u001b[0m \u001b[31m1.0 MB/s\u001b[0m eta \u001b[36m0:00:00\u001b[0ma \u001b[36m0:00:01\u001b[0m0m\n",
      "\u001b[?25hDownloading greenlet-3.1.1-cp313-cp313-manylinux_2_24_x86_64.manylinux_2_28_x86_64.whl (615 kB)\n",
      "\u001b[2K   \u001b[90m━━━━━━━━━━━━━━━━━━━━━━━━━━━━━━━━━━━━━━━━\u001b[0m \u001b[32m615.6/615.6 kB\u001b[0m \u001b[31m1.2 MB/s\u001b[0m eta \u001b[36m0:00:00\u001b[0m-:--:--\u001b[0m\n",
      "\u001b[?25hDownloading typing_extensions-4.12.2-py3-none-any.whl (37 kB)\n",
      "Building wheels for collected packages: psycopg2\n",
      "  Building wheel for psycopdone\n",
      "\u001b[?25h  Created wheel for psycopg2: filename=psycopg2-2.9.10-cp313-cp313-linux_x86_64.whl size=520737 sha256=ccdba6024c0c4b92c1fe30429351e046377dbf5843c4093028772fb50e59a35e\n",
      "  Stored in directory: /root/.cache/pip/wheels/d1/02/6b/6fab072a7ac365814e6d6217fef5525fa5ac3c64204a418040\n",
      "Successfully built psycopg2\n",
      "Installing collected packages: typing-extensions, psycopg2, greenlet, sqlalchemy\n",
      "Successfully installed greenlet-3.1.1 psycopg2-2.9.10 sqlalchemy-2.0.37 typing-extensions-4.12.2\n",
      "\u001b[33mWARNING: Running pip as the 'root' user can result in broken permissions and conflicting behaviour with the system package manager, possibly rendering your system unusable.It is recommended to use a virtual environment instead: https://pip.pypa.io/warnings/venv. Use the --root-user-action option if you know what you are doing and want to suppress this warning.\u001b[0m\u001b[33m\n",
      "\u001b[0m"
     ]
    }
   ],
   "source": [
    "!pip install pandas sqlalchemy kagglehub psycopg2"
   ]
  },
  {
   "cell_type": "code",
   "execution_count": 2,
   "metadata": {},
   "outputs": [
    {
     "name": "stderr",
     "output_type": "stream",
     "text": [
      "/usr/local/lib/python3.13/site-packages/tqdm/auto.py:21: TqdmWarning: IProgress not found. Please update jupyter and ipywidgets. See https://ipywidgets.readthedocs.io/en/stable/user_install.html\n",
      "  from .autonotebook import tqdm as notebook_tqdm\n"
     ]
    }
   ],
   "source": [
    "import pandas as pd\n",
    "from sqlalchemy import create_engine\n",
    "import kagglehub"
   ]
  },
  {
   "cell_type": "code",
   "execution_count": 3,
   "metadata": {},
   "outputs": [
    {
     "name": "stdout",
     "output_type": "stream",
     "text": [
      "Downloading from https://www.kaggle.com/api/v1/datasets/download/mfaisalqureshi/parking?dataset_version_number=1...\n"
     ]
    },
    {
     "name": "stderr",
     "output_type": "stream",
     "text": [
      "100%|██████████| 41.0k/41.0k [00:00<00:00, 8.51MB/s]"
     ]
    },
    {
     "name": "stdout",
     "output_type": "stream",
     "text": [
      "Extracting files...\n",
      "Path to dataset files: /root/.cache/kagglehub/datasets/mfaisalqureshi/parking/versions/1\n",
      "     Bldg City Bldg State Bldg Status Property Type  Total Parking Spaces  \\\n",
      "0     HARTFORD         CT      ACTIVE      BUILDING                    29   \n",
      "1    NEW HAVEN         CT      ACTIVE      BUILDING                     0   \n",
      "2    WATERBURY         CT      ACTIVE      BUILDING                     2   \n",
      "3  WILLIMANTIC         CT      ACTIVE      BUILDING                     0   \n",
      "4     HARTFORD         CT      ACTIVE      BUILDING                   103   \n",
      "\n",
      "  Owned/Leased  \n",
      "0        OWNED  \n",
      "1        OWNED  \n",
      "2       LEASED  \n",
      "3       LEASED  \n",
      "4        OWNED  \n"
     ]
    },
    {
     "name": "stderr",
     "output_type": "stream",
     "text": [
      "\n"
     ]
    }
   ],
   "source": [
    "# Download the dataset using KaggleHub\n",
    "csv_file_path = kagglehub.dataset_download(\"mfaisalqureshi/parking\")\n",
    "\n",
    "print(\"Path to dataset files:\", csv_file_path)\n",
    "\n",
    "# Load the dataset into a Pandas DataFrame\n",
    "df = pd.read_csv(csv_file_path + \"/\" + \"Parking Data.csv\")\n",
    "\n",
    "# Preview the dataset\n",
    "print(df.head())"
   ]
  },
  {
   "cell_type": "code",
   "execution_count": 4,
   "metadata": {},
   "outputs": [],
   "source": [
    "from sqlalchemy import create_engine\n",
    "\n",
    "# Define connection details\n",
    "postgres_user = \"postgres\"\n",
    "postgres_password = \"password\"\n",
    "db_name = \"pipeline_db\"\n",
    "host = \"postgres\"  # Use 'localhost' if running outside Docker\n",
    "\n",
    "# Create the SQLAlchemy engine\n",
    "engine = create_engine(f\"postgresql+psycopg2://{postgres_user}:{postgres_password}@{host}:5432/{db_name}\")"
   ]
  },
  {
   "cell_type": "code",
   "execution_count": null,
   "metadata": {},
   "outputs": [],
   "source": [
    "# Define the table name\n",
    "table_name = \"parking_data\"\n",
    "\n",
    "# Push the DataFrame to PostgreSQL\n",
    "df.to_sql(table_name, engine, if_exists=\"replace\", index=False, method=\"multi\")\n",
    "\n",
    "print(f\"Data successfully pushed to the '{table_name}' table!\")"
   ]
  },
  {
   "cell_type": "code",
   "execution_count": 5,
   "metadata": {},
   "outputs": [
    {
     "name": "stdout",
     "output_type": "stream",
     "text": [
      "Queried data:\n",
      "     Bldg City Bldg State Bldg Status Property Type  Total Parking Spaces  \\\n",
      "0     HARTFORD         CT      ACTIVE      BUILDING                    29   \n",
      "1    NEW HAVEN         CT      ACTIVE      BUILDING                     0   \n",
      "2    WATERBURY         CT      ACTIVE      BUILDING                     2   \n",
      "3  WILLIMANTIC         CT      ACTIVE      BUILDING                     0   \n",
      "4     HARTFORD         CT      ACTIVE      BUILDING                   103   \n",
      "\n",
      "  Owned/Leased  \n",
      "0        OWNED  \n",
      "1        OWNED  \n",
      "2       LEASED  \n",
      "3       LEASED  \n",
      "4        OWNED  \n"
     ]
    }
   ],
   "source": [
    "# Query the parking data from PostgreSQL\n",
    "query = \"SELECT * FROM parking_data LIMIT 10;\"\n",
    "df_parking = pd.read_sql(query, engine)\n",
    "\n",
    "# Preview the queried data\n",
    "print(\"Queried data:\")\n",
    "print(df_parking.head())"
   ]
  },
  {
   "cell_type": "code",
   "execution_count": null,
   "metadata": {},
   "outputs": [],
   "source": []
  }
 ],
 "metadata": {
  "kernelspec": {
   "display_name": "Python 3 (ipykernel)",
   "language": "python",
   "name": "python3"
  },
  "language_info": {
   "codemirror_mode": {
    "name": "ipython",
    "version": 3
   },
   "file_extension": ".py",
   "mimetype": "text/x-python",
   "name": "python",
   "nbconvert_exporter": "python",
   "pygments_lexer": "ipython3",
   "version": "3.13.1"
  }
 },
 "nbformat": 4,
 "nbformat_minor": 4
}
